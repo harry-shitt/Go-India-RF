{
 "cells": [
  {
   "cell_type": "code",
   "execution_count": 34,
   "metadata": {},
   "outputs": [
    {
     "data": {
      "text/html": [
       "<div style=\"width:100%;\"><div style=\"position:relative;width:100%;height:0;padding-bottom:60%;\"><span style=\"color:#565656\">Make this Notebook Trusted to load map: File -> Trust Notebook</span><iframe src=\"about:blank\" style=\"position:absolute;width:100%;height:100%;left:0;top:0;border:none !important;\" data-html=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 onload=\"this.contentDocument.open();this.contentDocument.write(atob(this.getAttribute('data-html')));this.contentDocument.close();\" allowfullscreen webkitallowfullscreen mozallowfullscreen></iframe></div></div>"
      ],
      "text/plain": [
       "<folium.folium.Map at 0x1ed7a4dc278>"
      ]
     },
     "execution_count": 34,
     "metadata": {},
     "output_type": "execute_result"
    }
   ],
   "source": [
    "import numpy as np\n",
    "import pandas as pd\n",
    "from geopy.distance import geodesic\n",
    "import folium\n",
    "# intital loading map\n",
    "map = folium.Map(location=[20.5937 ,78.9629 ], zoom_start=6, control_scale=True)\n",
    "map"
   ]
  },
  {
   "cell_type": "code",
   "execution_count": 74,
   "metadata": {},
   "outputs": [],
   "source": [
    "locationname = ['Mumbai' , 'Delhi' , 'Bangalore' ,'Kolkata' , 'Nellore']\n",
    "locationname\n",
    "totalnodes = len(locationname)"
   ]
  },
  {
   "cell_type": "code",
   "execution_count": 82,
   "metadata": {},
   "outputs": [],
   "source": [
    "dict = {}\n",
    "for i in range(len(locationname)):\n",
    "    dict[locationname[i]] = i\n",
    "start = dict['Mumbai']\n",
    "end = dict['Bangalore']"
   ]
  },
  {
   "cell_type": "code",
   "execution_count": 83,
   "metadata": {},
   "outputs": [],
   "source": [
    "from geopy.exc import GeocoderTimedOut\n",
    "from geopy.geocoders import Nominatim\n",
    "\n",
    "\n",
    "longitude = []\n",
    "latitude = []\n",
    "\n",
    "\n",
    "def findGeocode(city):\n",
    "       \n",
    "    try:\n",
    "\n",
    "        geolocator = Nominatim(user_agent=\"your_app_name\")\n",
    "          \n",
    "        return geolocator.geocode(city)\n",
    "      \n",
    "    except GeocoderTimedOut:\n",
    "          \n",
    "        return findGeocode(city)  \n",
    "\n",
    "for i in (locationname):\n",
    "\n",
    "    if findGeocode(i) != None:\n",
    "        loc = findGeocode(i)\n",
    "\n",
    "        latitude.append(loc.latitude)\n",
    "        longitude.append(loc.longitude)\n",
    "    else:\n",
    "        latitude.append(np.nan)\n",
    "        longitude.append(np.nan)\n"
   ]
  },
  {
   "cell_type": "code",
   "execution_count": 84,
   "metadata": {},
   "outputs": [
    {
     "data": {
      "text/plain": [
       "array([[19.0759899 , 72.8773928 ],\n",
       "       [28.6517178 , 77.2219388 ],\n",
       "       [12.9791198 , 77.5912997 ],\n",
       "       [22.5414185 , 88.35769124],\n",
       "       [14.4493717 , 79.9873763 ]])"
      ]
     },
     "execution_count": 84,
     "metadata": {},
     "output_type": "execute_result"
    }
   ],
   "source": [
    "# Create a matrix\n",
    "matrix = np.array([latitude,longitude]).T\n",
    "matrix\n"
   ]
  },
  {
   "cell_type": "code",
   "execution_count": 85,
   "metadata": {},
   "outputs": [
    {
     "data": {
      "text/html": [
       "<div>\n",
       "<style scoped>\n",
       "    .dataframe tbody tr th:only-of-type {\n",
       "        vertical-align: middle;\n",
       "    }\n",
       "\n",
       "    .dataframe tbody tr th {\n",
       "        vertical-align: top;\n",
       "    }\n",
       "\n",
       "    .dataframe thead th {\n",
       "        text-align: right;\n",
       "    }\n",
       "</style>\n",
       "<table border=\"1\" class=\"dataframe\">\n",
       "  <thead>\n",
       "    <tr style=\"text-align: right;\">\n",
       "      <th></th>\n",
       "      <th>Mumbai</th>\n",
       "      <th>Delhi</th>\n",
       "      <th>Bangalore</th>\n",
       "      <th>Kolkata</th>\n",
       "      <th>Nellore</th>\n",
       "    </tr>\n",
       "  </thead>\n",
       "  <tbody>\n",
       "    <tr>\n",
       "      <th>0</th>\n",
       "      <td>0.000000</td>\n",
       "      <td>1148.887036</td>\n",
       "      <td>842.248731</td>\n",
       "      <td>1655.629682</td>\n",
       "      <td>914.524520</td>\n",
       "    </tr>\n",
       "    <tr>\n",
       "      <th>1</th>\n",
       "      <td>1148.887036</td>\n",
       "      <td>0.000000</td>\n",
       "      <td>1735.689494</td>\n",
       "      <td>1306.478971</td>\n",
       "      <td>1598.286471</td>\n",
       "    </tr>\n",
       "    <tr>\n",
       "      <th>2</th>\n",
       "      <td>842.248731</td>\n",
       "      <td>1735.689494</td>\n",
       "      <td>0.000000</td>\n",
       "      <td>1555.437095</td>\n",
       "      <td>305.983709</td>\n",
       "    </tr>\n",
       "    <tr>\n",
       "      <th>3</th>\n",
       "      <td>1655.629682</td>\n",
       "      <td>1306.478971</td>\n",
       "      <td>1555.437095</td>\n",
       "      <td>0.000000</td>\n",
       "      <td>1257.678279</td>\n",
       "    </tr>\n",
       "    <tr>\n",
       "      <th>4</th>\n",
       "      <td>914.524520</td>\n",
       "      <td>1598.286471</td>\n",
       "      <td>305.983709</td>\n",
       "      <td>1257.678279</td>\n",
       "      <td>0.000000</td>\n",
       "    </tr>\n",
       "  </tbody>\n",
       "</table>\n",
       "</div>"
      ],
      "text/plain": [
       "        Mumbai        Delhi    Bangalore      Kolkata      Nellore\n",
       "0     0.000000  1148.887036   842.248731  1655.629682   914.524520\n",
       "1  1148.887036     0.000000  1735.689494  1306.478971  1598.286471\n",
       "2   842.248731  1735.689494     0.000000  1555.437095   305.983709\n",
       "3  1655.629682  1306.478971  1555.437095     0.000000  1257.678279\n",
       "4   914.524520  1598.286471   305.983709  1257.678279     0.000000"
      ]
     },
     "execution_count": 85,
     "metadata": {},
     "output_type": "execute_result"
    }
   ],
   "source": [
    "#changing coordinates to distances in km\n",
    "distances = []\n",
    "temp =[]\n",
    "for first in matrix:\n",
    "    for second in matrix:\n",
    "        if(first[0] == second[0] and first[1] == second[1]):\n",
    "            temp.append(int(0))\n",
    "        else:\n",
    "            temp.append(geodesic(( first[0],first[1]), ( second[0],second[1])).km)\n",
    "\n",
    "temp = np.reshape(temp, (len(latitude), len(latitude)))\n",
    "distances = temp\n",
    "pd.DataFrame(distances , columns = locationname)"
   ]
  },
  {
   "cell_type": "code",
   "execution_count": 86,
   "metadata": {},
   "outputs": [
    {
     "data": {
      "text/plain": [
       "[]"
      ]
     },
     "execution_count": 86,
     "metadata": {},
     "output_type": "execute_result"
    }
   ],
   "source": [
    "def routefinder (node , visited , calculatedistance):\n",
    "    \n",
    "    if(len(visited) == totalnodes-1 and not(start in visited)):                  # base case\n",
    "            visited.append(start);\n",
    "            calculatedistance += distances[start][node]\n",
    "            return visited , calculatedistance\n",
    "        \n",
    "        \n",
    "    visited.append(node) \n",
    "    setofnodes = []\n",
    "    returnvisited = []\n",
    "    minvalue = 10000000000 #random big value\n",
    "    for i in range(len(latitude)):\n",
    "        if(i != start and not(i in visited)):\n",
    "                setofnodes , distcheck = routefinder( i , visited , calculatedistance + distances[i][node])\n",
    "                if(distcheck < minvalue):\n",
    "                    returnvisited = setofnodes\n",
    "                    minvalue = distcheck\n",
    "    \n",
    "    return returnvisited , minvalue\n",
    "            \n",
    "            \n",
    "            \n",
    "            \n",
    "            \n",
    "\n",
    "visited = []\n",
    "nodes , caldistance = routefinder(end , visited , 0)\n",
    "nodes"
   ]
  },
  {
   "cell_type": "code",
   "execution_count": 87,
   "metadata": {},
   "outputs": [
    {
     "data": {
      "text/plain": [
       "4019.027994704403"
      ]
     },
     "execution_count": 87,
     "metadata": {},
     "output_type": "execute_result"
    }
   ],
   "source": [
    "temp =  100000000000\n",
    "ans = []\n",
    "def routefinder (node , visited , calculatedistance):\n",
    "    global temp , ans;\n",
    "    visited.append(node)\n",
    "    \n",
    "    if(len(visited) == totalnodes-1 and (start in visited) == False):\n",
    "        visited.append(start)\n",
    "        if(calculatedistance + distances[node][start] < temp):\n",
    "            temp = calculatedistance + distances[node][start]\n",
    "            ans = list(visited)\n",
    "\n",
    "        \n",
    "        visited.remove(start)\n",
    "    \n",
    "    \n",
    "    for i in range(totalnodes):        \n",
    "        if(i != start and not(i in visited)):\n",
    "            routefinder( i , visited , calculatedistance + distances[i][node])\n",
    "    \n",
    "    visited.remove(node)         \n",
    "            \n",
    "\n",
    "routefinder(end , [] , 0)\n",
    "temp"
   ]
  },
  {
   "cell_type": "code",
   "execution_count": 88,
   "metadata": {},
   "outputs": [
    {
     "data": {
      "text/html": [
       "<div style=\"width:100%;\"><div style=\"position:relative;width:100%;height:0;padding-bottom:60%;\"><span style=\"color:#565656\">Make this Notebook Trusted to load map: File -> Trust Notebook</span><iframe src=\"about:blank\" style=\"position:absolute;width:100%;height:100%;left:0;top:0;border:none !important;\" data-html=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 onload=\"this.contentDocument.open();this.contentDocument.write(atob(this.getAttribute('data-html')));this.contentDocument.close();\" allowfullscreen webkitallowfullscreen mozallowfullscreen></iframe></div></div>"
      ],
      "text/plain": [
       "<folium.folium.Map at 0x1ed7a7c6588>"
      ]
     },
     "execution_count": 88,
     "metadata": {},
     "output_type": "execute_result"
    }
   ],
   "source": [
    "coordinates = []\n",
    "for i in ans:\n",
    "    coordinates.append([latitude[i] , longitude[i]])\n",
    "\n",
    "\n",
    "coordinates\n",
    "\n",
    "    \n",
    "\n",
    "\n",
    "# Create the map and add the line\n",
    "map1 = folium.Map(location=[latitude[start], longitude[start]], zoom_start=4)\n",
    "my_PolyLine=folium.PolyLine(locations=coordinates,weight=5)\n",
    "map1.add_child(my_PolyLine)\n",
    "\n",
    "\n",
    "for i in range(len(latitude)):\n",
    "    folium.Marker((latitude[i] , longitude[i]), popup=locationname[i]).add_to(map1)\n",
    "map1"
   ]
  },
  {
   "cell_type": "code",
   "execution_count": null,
   "metadata": {},
   "outputs": [],
   "source": []
  }
 ],
 "metadata": {
  "kernelspec": {
   "display_name": "Python 3",
   "language": "python",
   "name": "python3"
  },
  "language_info": {
   "codemirror_mode": {
    "name": "ipython",
    "version": 3
   },
   "file_extension": ".py",
   "mimetype": "text/x-python",
   "name": "python",
   "nbconvert_exporter": "python",
   "pygments_lexer": "ipython3",
   "version": "3.7.3"
  }
 },
 "nbformat": 4,
 "nbformat_minor": 2
}
